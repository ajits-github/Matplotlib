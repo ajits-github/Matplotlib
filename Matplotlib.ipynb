{
  "nbformat": 4,
  "nbformat_minor": 0,
  "metadata": {
    "colab": {
      "provenance": [],
      "authorship_tag": "ABX9TyNqvGqgtBHrD0TltBQ9WalE"
    },
    "kernelspec": {
      "name": "python3",
      "display_name": "Python 3"
    },
    "language_info": {
      "name": "python"
    }
  },
  "cells": [
    {
      "cell_type": "code",
      "execution_count": null,
      "metadata": {
        "colab": {
          "base_uri": "https://localhost:8080/"
        },
        "id": "-RAZFlO2Iec7",
        "outputId": "54bb2bb8-d0df-49bd-ba05-4e31d9b2d424"
      },
      "outputs": [
        {
          "output_type": "stream",
          "name": "stdout",
          "text": [
            "Collecting aquarel\n",
            "  Downloading aquarel-0.0.5-py3-none-any.whl (20 kB)\n",
            "Collecting catppuccin-matplotlib\n",
            "  Downloading catppuccin_matplotlib-0.4-py3-none-any.whl (11 kB)\n",
            "Collecting mplcyberpunk\n",
            "  Downloading mplcyberpunk-0.7.1-py3-none-any.whl (6.4 kB)\n",
            "Collecting matplotx\n",
            "  Downloading matplotx-0.3.10-py3-none-any.whl (25 kB)\n",
            "Collecting vapeplot\n",
            "  Downloading vapeplot-0.0.8.tar.gz (12 kB)\n",
            "  Preparing metadata (setup.py) ... \u001b[?25l\u001b[?25hdone\n",
            "Requirement already satisfied: matplotlib>=3.4.0 in /usr/local/lib/python3.10/dist-packages (from aquarel) (3.7.1)\n",
            "Requirement already satisfied: cycler in /usr/local/lib/python3.10/dist-packages (from aquarel) (0.12.1)\n",
            "Requirement already satisfied: numpy>=1.20.0 in /usr/local/lib/python3.10/dist-packages (from matplotx) (1.23.5)\n",
            "Requirement already satisfied: contourpy>=1.0.1 in /usr/local/lib/python3.10/dist-packages (from matplotlib>=3.4.0->aquarel) (1.2.0)\n",
            "Requirement already satisfied: fonttools>=4.22.0 in /usr/local/lib/python3.10/dist-packages (from matplotlib>=3.4.0->aquarel) (4.47.0)\n",
            "Requirement already satisfied: kiwisolver>=1.0.1 in /usr/local/lib/python3.10/dist-packages (from matplotlib>=3.4.0->aquarel) (1.4.5)\n",
            "Requirement already satisfied: packaging>=20.0 in /usr/local/lib/python3.10/dist-packages (from matplotlib>=3.4.0->aquarel) (23.2)\n",
            "Requirement already satisfied: pillow>=6.2.0 in /usr/local/lib/python3.10/dist-packages (from matplotlib>=3.4.0->aquarel) (9.4.0)\n",
            "Requirement already satisfied: pyparsing>=2.3.1 in /usr/local/lib/python3.10/dist-packages (from matplotlib>=3.4.0->aquarel) (3.1.1)\n",
            "Requirement already satisfied: python-dateutil>=2.7 in /usr/local/lib/python3.10/dist-packages (from matplotlib>=3.4.0->aquarel) (2.8.2)\n",
            "Requirement already satisfied: six>=1.5 in /usr/local/lib/python3.10/dist-packages (from python-dateutil>=2.7->matplotlib>=3.4.0->aquarel) (1.16.0)\n",
            "Building wheels for collected packages: vapeplot\n",
            "  Building wheel for vapeplot (setup.py) ... \u001b[?25l\u001b[?25hdone\n",
            "  Created wheel for vapeplot: filename=vapeplot-0.0.8-py3-none-any.whl size=11012 sha256=ead004752f7fc476b4c79d5db392d05bd22cd5dbc059dc643f916bc0feb2dd4e\n",
            "  Stored in directory: /root/.cache/pip/wheels/aa/ee/f8/9c3f6e025c82c4621a7e962d57d3a51f8d557a9b3b6b3f84ba\n",
            "Successfully built vapeplot\n",
            "Installing collected packages: vapeplot, mplcyberpunk, matplotx, catppuccin-matplotlib, aquarel\n",
            "Successfully installed aquarel-0.0.5 catppuccin-matplotlib-0.4 matplotx-0.3.10 mplcyberpunk-0.7.1 vapeplot-0.0.8\n"
          ]
        }
      ],
      "source": [
        "!pip install aquarel catppuccin-matplotlib mplcyberpunk matplotx vapeplot"
      ]
    },
    {
      "cell_type": "code",
      "source": [
        "import matplotlib\n",
        "import matplotlib.pyplot as plt\n",
        "import numpy as np\n",
        "import pandas as pd\n",
        "import seaborn as sns\n",
        "\n",
        "from aquarel import load_theme\n",
        "import mplcatppuccin\n",
        "import mplcyberpunk\n",
        "import matplotx\n",
        "%matplotlib inline"
      ],
      "metadata": {
        "id": "b57mAKn5JnUj"
      },
      "execution_count": null,
      "outputs": []
    },
    {
      "cell_type": "code",
      "source": [
        "def scatter():\n",
        "  x = np.random.random(100)\n",
        "  y = x-np.random.random(100)\n",
        "  z = np.random.randint(0,4,100)\n",
        "  df = pd.DataFrame({'X':x, 'Y': y, 'Z':z})\n",
        "  return df\n",
        "\n",
        "def line():\n",
        "  x = np.arange(0,10,0.1)\n",
        "  y_1 = np.sin(x)\n",
        "  y_2 = np.sin(x+5)\n",
        "  y_3 = np.sin(x+10)\n",
        "  y_4 = np.sin(x+15)\n",
        "  y_5 = np.sin(x+20)\n",
        "  df = pd.DataFrame({'X':x,'y_1':y_1, 'y_2':y_2, 'y_3':y_3, 'y_4':y_4, 'y_5':y_5})\n",
        "  return df\n",
        "\n",
        "def hist():\n",
        "  x_1 = np.random.normal(1,0.1,1000)\n",
        "  x_2 = np.random.gamma(1,0.25,1000)\n",
        "  x_3 = np.random.normal(0.4, 0.1,1000)\n",
        "  x_4 = np.random.normal(-0.1, 0.3,1000)\n",
        "\n",
        "  df = pd.DataFrame({'X_1': x_1, 'X_2':x_2, 'X_3': x_3, 'X_4':x_4})\n",
        "  return df"
      ],
      "metadata": {
        "id": "nUytFTIRWOlM"
      },
      "execution_count": null,
      "outputs": []
    }
  ]
}